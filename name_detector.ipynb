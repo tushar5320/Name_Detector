{
  "nbformat": 4,
  "nbformat_minor": 0,
  "metadata": {
    "colab": {
      "name": "name_detector.ipynb",
      "provenance": [],
      "collapsed_sections": []
    },
    "kernelspec": {
      "name": "python3",
      "display_name": "Python 3"
    }
  },
  "cells": [
    {
      "cell_type": "code",
      "metadata": {
        "id": "_mulEoSVKx4I",
        "colab_type": "code",
        "colab": {}
      },
      "source": [
        "pip install tesseract"
      ],
      "execution_count": 0,
      "outputs": []
    },
    {
      "cell_type": "code",
      "metadata": {
        "id": "E8utT7z13opE",
        "colab_type": "code",
        "colab": {}
      },
      "source": [
        "! apt install tesseract-ocr"
      ],
      "execution_count": 0,
      "outputs": []
    },
    {
      "cell_type": "code",
      "metadata": {
        "id": "MW18Dm6I5FkT",
        "colab_type": "code",
        "colab": {
          "base_uri": "https://localhost:8080/",
          "height": 391
        },
        "outputId": "c17ab949-7db0-4baa-9957-3d67f577dc7a"
      },
      "source": [
        "! apt install libtesseract-dev"
      ],
      "execution_count": 5,
      "outputs": [
        {
          "output_type": "stream",
          "text": [
            "Reading package lists... Done\n",
            "Building dependency tree       \n",
            "Reading state information... Done\n",
            "The following additional packages will be installed:\n",
            "  libleptonica-dev\n",
            "The following NEW packages will be installed:\n",
            "  libleptonica-dev libtesseract-dev\n",
            "0 upgraded, 2 newly installed, 0 to remove and 29 not upgraded.\n",
            "Need to get 2,755 kB of archives.\n",
            "After this operation, 13.8 MB of additional disk space will be used.\n",
            "Get:1 http://archive.ubuntu.com/ubuntu bionic/universe amd64 libleptonica-dev amd64 1.75.3-3 [1,308 kB]\n",
            "Get:2 http://archive.ubuntu.com/ubuntu bionic/universe amd64 libtesseract-dev amd64 4.00~git2288-10f4998a-2 [1,447 kB]\n",
            "Fetched 2,755 kB in 3s (1,010 kB/s)\n",
            "Selecting previously unselected package libleptonica-dev.\n",
            "(Reading database ... 144476 files and directories currently installed.)\n",
            "Preparing to unpack .../libleptonica-dev_1.75.3-3_amd64.deb ...\n",
            "Unpacking libleptonica-dev (1.75.3-3) ...\n",
            "Selecting previously unselected package libtesseract-dev.\n",
            "Preparing to unpack .../libtesseract-dev_4.00~git2288-10f4998a-2_amd64.deb ...\n",
            "Unpacking libtesseract-dev (4.00~git2288-10f4998a-2) ...\n",
            "Setting up libleptonica-dev (1.75.3-3) ...\n",
            "Setting up libtesseract-dev (4.00~git2288-10f4998a-2) ...\n"
          ],
          "name": "stdout"
        }
      ]
    },
    {
      "cell_type": "code",
      "metadata": {
        "id": "L_cO97rM5Npt",
        "colab_type": "code",
        "colab": {}
      },
      "source": [
        "! pip install Pillow\n"
      ],
      "execution_count": 0,
      "outputs": []
    },
    {
      "cell_type": "code",
      "metadata": {
        "id": "XXMJNV7F5dNh",
        "colab_type": "code",
        "colab": {}
      },
      "source": [
        "! pip install pytesseract"
      ],
      "execution_count": 0,
      "outputs": []
    },
    {
      "cell_type": "code",
      "metadata": {
        "id": "MOE5CLRlK7sz",
        "colab_type": "code",
        "colab": {}
      },
      "source": [
        "import pytesseract\n"
      ],
      "execution_count": 0,
      "outputs": []
    },
    {
      "cell_type": "code",
      "metadata": {
        "id": "JrOVKrS-UFtR",
        "colab_type": "code",
        "colab": {}
      },
      "source": [
        "import pickle as pkl"
      ],
      "execution_count": 0,
      "outputs": []
    },
    {
      "cell_type": "code",
      "metadata": {
        "id": "ry4o5sWyAq1y",
        "colab_type": "code",
        "colab": {}
      },
      "source": [
        "!python -m spacy download en_core_web_lg"
      ],
      "execution_count": 0,
      "outputs": []
    },
    {
      "cell_type": "code",
      "metadata": {
        "id": "M2dFDAAfCFKr",
        "colab_type": "code",
        "colab": {}
      },
      "source": [
        "import matplotlib.pyplot as plt\n",
        "import spacy\n",
        "import cv2\n",
        "import pytesseract"
      ],
      "execution_count": 0,
      "outputs": []
    },
    {
      "cell_type": "markdown",
      "metadata": {
        "id": "NJp9UssFCUC-",
        "colab_type": "text"
      },
      "source": [
        "loading and reading image by Pytesseract"
      ]
    },
    {
      "cell_type": "code",
      "metadata": {
        "id": "Rf6HAVbUMaxp",
        "colab_type": "code",
        "colab": {
          "base_uri": "https://localhost:8080/",
          "height": 269
        },
        "outputId": "ccc5af8e-c81f-4266-8dc8-1e7519478727"
      },
      "source": [
        "img=cv2.imread(\"/content/drive/My Drive/T1.jpg\")\n",
        "img=cv2.cvtColor(img,cv2.COLOR_BGR2GRAY)\n",
        "plt.imshow(img,cmap='gray')\n",
        "text=pytesseract.image_to_string(img)"
      ],
      "execution_count": 293,
      "outputs": [
        {
          "output_type": "display_data",
          "data": {
            "image/png": "[encoded data removed]",
            "text/plain": [
              "<Figure size 432x288 with 1 Axes>"
            ]
          },
          "metadata": {
            "tags": [],
            "needs_background": "light"
          }
        }
      ]
    },
    {
      "cell_type": "markdown",
      "metadata": {
        "id": "16GzqRNFBtu0",
        "colab_type": "text"
      },
      "source": [
        "For Testing the model I used plain text .    \n",
        "The model worked perfectly for good quality images\n"
      ]
    },
    {
      "cell_type": "code",
      "metadata": {
        "id": "HHbIpCXDHxOb",
        "colab_type": "code",
        "colab": {}
      },
      "source": [
        "#text=\"Donald John Trump (born June 14, 1946) is the 45th and current president of the United States. Before entering politics, he was a businessman and television personalityHe appointed Neil Gorsuch and Brett Kavanaugh to the Supreme Court. In foreign policy, Trump has pursued an America First agenda, withdrawing the U.S. from the Trans-Pacific Partnership trade negotiations, the Paris Agreement on climate change, and the Iran nuclear deal. During increased tensions with Iran, he ordered the killing of Iranian general Qasem Soleimani. He imposed import tariffs triggering a trade war with China, recognized Jerusalem as the capital of Israel, and withdrew U.S. troops from northern Syria to avoid Turkey's offensive on American-allied Kurds.\""
      ],
      "execution_count": 0,
      "outputs": []
    },
    {
      "cell_type": "code",
      "metadata": {
        "id": "KY3Vh-PY5yxQ",
        "colab_type": "code",
        "colab": {}
      },
      "source": [
        "nlp=spacy.load(\"en_core_web_lg\")"
      ],
      "execution_count": 0,
      "outputs": []
    },
    {
      "cell_type": "code",
      "metadata": {
        "id": "zhAcOMaKDEqp",
        "colab_type": "code",
        "colab": {}
      },
      "source": [
        "text=text.title().strip()\n",
        "\n"
      ],
      "execution_count": 0,
      "outputs": []
    },
    {
      "cell_type": "code",
      "metadata": {
        "id": "HAvD5Z13FU8V",
        "colab_type": "code",
        "colab": {}
      },
      "source": [
        "data=nlp(text)\n",
        "\n"
      ],
      "execution_count": 0,
      "outputs": []
    },
    {
      "cell_type": "code",
      "metadata": {
        "id": "2qMcYQzc9XS2",
        "colab_type": "code",
        "colab": {
          "base_uri": "https://localhost:8080/",
          "height": 54
        },
        "outputId": "f7d15800-e78e-4aa9-9437-9808796e5336"
      },
      "source": [
        "data"
      ],
      "execution_count": 291,
      "outputs": [
        {
          "output_type": "execute_result",
          "data": {
            "text/plain": [
              "Donald John Trump (Born June 14, 1946) Is The 45Th And Current President Of The United States. Before Entering Politics, He Was A Businessman And Television Personalityhe Appointed Neil Gorsuch And Brett Kavanaugh To The Supreme Court. In Foreign Policy, Trump Has Pursued An America First Agenda, Withdrawing The U.S. From The Trans-Pacific Partnership Trade Negotiations, The Paris Agreement On Climate Change, And The Iran Nuclear Deal. During Increased Tensions With Iran, He Ordered The Killing Of Iranian General Qasem Soleimani. He Imposed Import Tariffs Triggering A Trade War With China, Recognized Jerusalem As The Capital Of Israel, And Withdrew U.S. Troops From Northern Syria To Avoid Turkey'S Offensive On American-Allied Kurds."
            ]
          },
          "metadata": {
            "tags": []
          },
          "execution_count": 291
        }
      ]
    },
    {
      "cell_type": "code",
      "metadata": {
        "id": "FMI0EUidP2VA",
        "colab_type": "code",
        "colab": {}
      },
      "source": [
        "person_entities = [ent for ent in data.ents if ent.label_ == \"PERSON\"]"
      ],
      "execution_count": 0,
      "outputs": []
    },
    {
      "cell_type": "code",
      "metadata": {
        "id": "tlQ4DmAp9i7l",
        "colab_type": "code",
        "colab": {
          "base_uri": "https://localhost:8080/",
          "height": 34
        },
        "outputId": "c664fd6b-eebd-46cd-d520-05576308838c"
      },
      "source": [
        "person_entities"
      ],
      "execution_count": 273,
      "outputs": [
        {
          "output_type": "execute_result",
          "data": {
            "text/plain": [
              "[Donald John Trump, Neil Gorsuch, Brett Kavanaugh, Trump, Qasem Soleimani]"
            ]
          },
          "metadata": {
            "tags": []
          },
          "execution_count": 273
        }
      ]
    },
    {
      "cell_type": "code",
      "metadata": {
        "id": "67CFEifLXvaT",
        "colab_type": "code",
        "colab": {}
      },
      "source": [
        "only_alpha = \"\"\n",
        "new_person=[]\n",
        "## looping through the string to find out alphabets\n",
        "for string in person_entities:\n",
        "  string=str(string)\n",
        "  for char in range(0,len(string)):\n",
        "   \n",
        "\n",
        "    if ord(string[char]) >= 65 and ord(string[char]) <= 90:\n",
        "      only_alpha += string[char]\n",
        "    ## checking for lower case\n",
        "    elif ord(string[char]) >= 97 and ord(string[char]) <= 122:\n",
        "      only_alpha += string[char]\n",
        "    elif ord(string[char])==32:\n",
        "      only_alpha+=string[char]\n",
        "\n",
        "  ## printing the string which contains only alphabets\n",
        "  if only_alpha[-1]==' ':\n",
        "    new_person.append(only_alpha[:-1])\n",
        "  else:\n",
        "    new_person.append(only_alpha)\n",
        "  only_alpha=''"
      ],
      "execution_count": 0,
      "outputs": []
    },
    {
      "cell_type": "code",
      "metadata": {
        "id": "qAKwjviDZ49f",
        "colab_type": "code",
        "colab": {
          "base_uri": "https://localhost:8080/",
          "height": 102
        },
        "outputId": "1fbc4fbd-881a-4daf-e52d-0bbfc27e08de"
      },
      "source": [
        "new_person"
      ],
      "execution_count": 275,
      "outputs": [
        {
          "output_type": "execute_result",
          "data": {
            "text/plain": [
              "['Donald John Trump',\n",
              " 'Neil Gorsuch',\n",
              " 'Brett Kavanaugh',\n",
              " 'Trump',\n",
              " 'Qasem Soleimani']"
            ]
          },
          "metadata": {
            "tags": []
          },
          "execution_count": 275
        }
      ]
    },
    {
      "cell_type": "code",
      "metadata": {
        "id": "4kD7SboFDQ2h",
        "colab_type": "code",
        "colab": {}
      },
      "source": [
        "file=open(\"/content/drive/My Drive/first_names.all.txt\",\"r\",encoding='utf-8')\n"
      ],
      "execution_count": 0,
      "outputs": []
    },
    {
      "cell_type": "code",
      "metadata": {
        "id": "_CFGS4yHVOa8",
        "colab_type": "code",
        "colab": {
          "base_uri": "https://localhost:8080/",
          "height": 34
        },
        "outputId": "797ad45f-6932-494a-dce9-39ada723297f"
      },
      "source": [
        "first=file.read()\n",
        "first_name=first.split(\"\\n\")\n",
        "first_name=first_name[:-1]\n",
        "file.close"
      ],
      "execution_count": 277,
      "outputs": [
        {
          "output_type": "execute_result",
          "data": {
            "text/plain": [
              "<function TextIOWrapper.close>"
            ]
          },
          "metadata": {
            "tags": []
          },
          "execution_count": 277
        }
      ]
    },
    {
      "cell_type": "code",
      "metadata": {
        "id": "dXQOj4LzkMce",
        "colab_type": "code",
        "colab": {}
      },
      "source": [
        "first_name.extend([\"aisha\",\n",
        " \"aishah\",\n",
        " 'ajay',\n",
        " \"aisha\",\n",
        " \"aishah\"])"
      ],
      "execution_count": 0,
      "outputs": []
    },
    {
      "cell_type": "code",
      "metadata": {
        "id": "ZMDXszB1g080",
        "colab_type": "code",
        "colab": {}
      },
      "source": [
        "lis=[]\n",
        "first_name_dic={}\n",
        "for i in range(len(first_name)-2):\n",
        "  \n",
        "  if first_name[i][0]=='a' and first_name[i][1]==\"a\":\n",
        "    lis.append(first_name[i][1:])\n",
        "first_name.extend(lis)\n",
        "  "
      ],
      "execution_count": 0,
      "outputs": []
    },
    {
      "cell_type": "code",
      "metadata": {
        "id": "WSQjDsDq5mPd",
        "colab_type": "code",
        "colab": {}
      },
      "source": [
        "for i in first_name:\n",
        "  first_name_dic[i]=\"FNAME\""
      ],
      "execution_count": 0,
      "outputs": []
    },
    {
      "cell_type": "code",
      "metadata": {
        "id": "wALrUcO9hUVL",
        "colab_type": "code",
        "colab": {
          "base_uri": "https://localhost:8080/",
          "height": 34
        },
        "outputId": "bd6fdabe-6751-4222-864c-3ea97ce4e094"
      },
      "source": [
        "first_name_dic['penne']"
      ],
      "execution_count": 281,
      "outputs": [
        {
          "output_type": "execute_result",
          "data": {
            "text/plain": [
              "'FNAME'"
            ]
          },
          "metadata": {
            "tags": []
          },
          "execution_count": 281
        }
      ]
    },
    {
      "cell_type": "code",
      "metadata": {
        "id": "WuiEPwrQWk-E",
        "colab_type": "code",
        "colab": {}
      },
      "source": [
        "string_entity=[ent+\" is president of india\" for ent in new_person]"
      ],
      "execution_count": 0,
      "outputs": []
    },
    {
      "cell_type": "code",
      "metadata": {
        "id": "TSqhMsttbkT5",
        "colab_type": "code",
        "colab": {
          "base_uri": "https://localhost:8080/",
          "height": 102
        },
        "outputId": "05ba68b7-6b7a-4915-9d21-13197f588c60"
      },
      "source": [
        "string_entity"
      ],
      "execution_count": 283,
      "outputs": [
        {
          "output_type": "execute_result",
          "data": {
            "text/plain": [
              "['Donald John Trump is president of india',\n",
              " 'Neil Gorsuch is president of india',\n",
              " 'Brett Kavanaugh is president of india',\n",
              " 'Trump is president of india',\n",
              " 'Qasem Soleimani is president of india']"
            ]
          },
          "metadata": {
            "tags": []
          },
          "execution_count": 283
        }
      ]
    },
    {
      "cell_type": "code",
      "metadata": {
        "id": "JsjjxUmhbmFx",
        "colab_type": "code",
        "colab": {}
      },
      "source": [
        "redefined_ents=[]\n",
        "for sent in string_entity:\n",
        "  doc=nlp(sent)\n",
        "  for ent in doc.ents:\n",
        "    if ent.label_==\"PERSON\":\n",
        "      redefined_ents.append(ent.text)"
      ],
      "execution_count": 0,
      "outputs": []
    },
    {
      "cell_type": "code",
      "metadata": {
        "id": "S9I6jMphcQ1B",
        "colab_type": "code",
        "colab": {
          "base_uri": "https://localhost:8080/",
          "height": 85
        },
        "outputId": "19878fa5-4baa-4a6d-eb24-3a5d38318173"
      },
      "source": [
        "for i in redefined_ents:\n",
        "  print(i)"
      ],
      "execution_count": 285,
      "outputs": [
        {
          "output_type": "stream",
          "text": [
            "Donald John Trump\n",
            "Neil Gorsuch\n",
            "Brett Kavanaugh\n",
            "Qasem Soleimani\n"
          ],
          "name": "stdout"
        }
      ]
    },
    {
      "cell_type": "code",
      "metadata": {
        "id": "PZWxKUfbdTBJ",
        "colab_type": "code",
        "colab": {
          "base_uri": "https://localhost:8080/",
          "height": 85
        },
        "outputId": "81c881b7-9031-4c17-da50-077757747cb2"
      },
      "source": [
        "confirm_names=[]\n",
        "\n",
        "for name in redefined_ents:\n",
        "  lis=name.split()\n",
        "  \n",
        "  if str.lower(lis[0]) in first_name_dic:\n",
        "    print(\"name confirmed: \",name)\n",
        "  "
      ],
      "execution_count": 286,
      "outputs": [
        {
          "output_type": "stream",
          "text": [
            "name confirmed:  Donald John Trump\n",
            "name confirmed:  Neil Gorsuch\n",
            "name confirmed:  Brett Kavanaugh\n",
            "name confirmed:  Qasem Soleimani\n"
          ],
          "name": "stdout"
        }
      ]
    },
    {
      "cell_type": "code",
      "metadata": {
        "id": "H8eqFXWz_ja2",
        "colab_type": "code",
        "colab": {}
      },
      "source": [
        ""
      ],
      "execution_count": 0,
      "outputs": []
    }
  ]
}